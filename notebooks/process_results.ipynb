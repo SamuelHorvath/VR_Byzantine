{
 "cells": [
  {
   "cell_type": "code",
   "execution_count": null,
   "metadata": {
    "collapsed": true
   },
   "outputs": [],
   "source": [
    "%matplotlib inline\n",
    "\n",
    "import sys\n",
    "sys.path.insert(0, \"../code/\")"
   ]
  },
  {
   "cell_type": "code",
   "execution_count": null,
   "outputs": [],
   "source": [
    "from utils.plotting import plot"
   ],
   "metadata": {
    "collapsed": false,
    "pycharm": {
     "name": "#%%\n"
    }
   }
  },
  {
   "cell_type": "code",
   "execution_count": null,
   "outputs": [],
   "source": [
    "class NameSpace(object):\n",
    "    def __init__(self, adict):\n",
    "        self.__dict__.update(adict)"
   ],
   "metadata": {
    "collapsed": false,
    "pycharm": {
     "name": "#%%\n"
    }
   }
  },
  {
   "cell_type": "code",
   "execution_count": null,
   "outputs": [],
   "source": [
    "def get_exps(attack):\n",
    "    exps = []\n",
    "    for model, agg, bucketing in zip(model_s, agg_s, bucketing_s):\n",
    "        exp = {\n",
    "            'attack': attack,\n",
    "            'model': model,\n",
    "            'agg': agg,\n",
    "            'bucketing': bucketing,\n",
    "            'run_id': run_id,\n",
    "            'train_metric': train_metric,\n",
    "            'metric': metric,\n",
    "            'outputs_dir': outputs_dir,\n",
    "            'compression': compression,\n",
    "        }\n",
    "        exp = NameSpace(exp)\n",
    "        exps.append(exp)\n",
    "    return exps"
   ],
   "metadata": {
    "collapsed": false,
    "pycharm": {
     "name": "#%%\n"
    }
   }
  },
  {
   "cell_type": "code",
   "execution_count": null,
   "outputs": [],
   "source": [
    "min_value = 0.48710015416145325  # 0.39699700474739075 for w8a\n",
    "\n",
    "run_id = \"a9a_full\"\n",
    "train_metric = True\n",
    "metric = 'loss'\n",
    "kind = 'train_loss'\n",
    "\n",
    "outputs_dir = '../outputs'\n",
    "\n",
    "model_s = ['sgd', 'diana', 'marina']\n",
    "agg_s = ['cm', 'cm', 'cm']\n",
    "bucketing_s = [2, 2, 2]\n",
    "\n",
    "attack = 'NA'  # ['NA', 'BF', 'LF', 'ALIE', 'IPM']\n",
    "\n",
    "\n",
    "compression = 'random_sparsification'\n",
    "\n",
    "legend = [r'$\\sf{SGD}$', r'$\\sf{BR}$-$\\sf{DIANA}$', r'$\\sf{Byz}$-$\\sf{VR}$-$\\sf{MARINA}$',]"
   ],
   "metadata": {
    "collapsed": false,
    "pycharm": {
     "name": "#%%\n"
    }
   }
  },
  {
   "cell_type": "code",
   "execution_count": null,
   "outputs": [],
   "source": [
    "exps = get_exps(attack)\n",
    "\n",
    "plot(\n",
    "    exps, kind,\n",
    "    log_scale=True, legend=legend,\n",
    "    file=f'{run_id}_comp={compression}_agg={agg_s[0]}_attack_{attack}',\n",
    "    x_label='epochs', y_label=r'$f(x) - f^*$',\n",
    "    min_value=min_value,\n",
    "    title= f\"{agg_s[0].upper()} | {attack}\",\n",
    ")"
   ],
   "metadata": {
    "collapsed": false,
    "pycharm": {
     "name": "#%%\n"
    }
   }
  }
 ],
 "metadata": {
  "kernelspec": {
   "display_name": "Python 3",
   "language": "python",
   "name": "python3"
  },
  "language_info": {
   "codemirror_mode": {
    "name": "ipython",
    "version": 2
   },
   "file_extension": ".py",
   "mimetype": "text/x-python",
   "name": "python",
   "nbconvert_exporter": "python",
   "pygments_lexer": "ipython2",
   "version": "2.7.6"
  }
 },
 "nbformat": 4,
 "nbformat_minor": 0
}